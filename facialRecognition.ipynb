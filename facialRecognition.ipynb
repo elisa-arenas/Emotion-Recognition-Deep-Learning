{
 "cells": [
  {
   "cell_type": "code",
   "execution_count": 9,
   "metadata": {},
   "outputs": [],
   "source": [
    "import pandas as pd\n",
    "import numpy as np\n",
    "import os\n",
    "import matplotlib.pyplot as plt\n",
    "import seaborn as sns\n",
    "import warnings\n",
    "from tqdm.notebook import tqdm\n",
    "warnings.filterwarnings('ignore')\n",
    "%matplotlib inline\n",
    "import tensorflow as tf\n",
    "from keras.models import Sequential\n",
    "from keras.layers import Dense, Conv2D, Dropout, Flatten, MaxPooling2D\n",
    "from tensorflow.keras.utils import to_categorical\n",
    "from keras.preprocessing.image import load_img\n"
   ]
  },
  {
   "cell_type": "markdown",
   "metadata": {},
   "source": [
    "# loading facial expression dataset from Kaggle"
   ]
  },
  {
   "cell_type": "code",
   "execution_count": 5,
   "metadata": {},
   "outputs": [
    {
     "name": "stdout",
     "output_type": "stream",
     "text": [
      "Loading Train Dataset\n",
      ".DS_Store Completed\n",
      "angry Completed\n",
      "disgust Completed\n",
      "fear Completed\n",
      "happy Completed\n",
      "neutral Completed\n",
      "sad Completed\n",
      "surprise Completed\n",
      "Loading Test Dataset\n",
      ".DS_Store Completed\n",
      "angry Completed\n",
      "disgust Completed\n",
      "fear Completed\n",
      "happy Completed\n",
      "neutral Completed\n",
      "sad Completed\n",
      "surprise Completed\n"
     ]
    }
   ],
   "source": [
    "testData = 'datasetPictures/test/test'\n",
    "trainData = 'datasetPictures/train/train'\n",
    "# def loadDataset(directory): \n",
    "#     imagePaths = []\n",
    "#     labels = []\n",
    "\n",
    "#     for label in os.listdir(directory):\n",
    "#         for filename in os.listdir(directory+label): \n",
    "#             imagePath = os.path.join(directory, label, filename)\n",
    "#             imagePaths.append(imagePath) #input: image\n",
    "#             labels.append(label) #output: label\n",
    "\n",
    "#         print(label, \"Completed\")\n",
    "#     return imagePaths, labels\n",
    "\n",
    "imagesTrain = []\n",
    "labelsTrain = []\n",
    "print(\"Loading Train Dataset\")\n",
    "for label in os.listdir(trainData):\n",
    "    if not label.startswith('.DS'):\n",
    "        for picture in os.listdir(trainData+'/'+label):\n",
    "            picPath = os.path.join(trainData, label, picture)\n",
    "            imagesTrain.append(picPath) #input: image\n",
    "            labelsTrain.append(label) #output: label\n",
    "    print(label, \"Completed\")\n",
    "\n",
    "imagesTest = []\n",
    "labelsTest = []\n",
    "print(\"Loading Test Dataset\")\n",
    "\n",
    "for label in os.listdir(testData):\n",
    "    if not label.startswith('.DS'):\n",
    "        for picture in os.listdir(testData+'/'+label):\n",
    "            picPath = os.path.join(testData, label, picture)\n",
    "            imagesTest.append(picPath) #input: image\n",
    "            labelsTest.append(label) #output: label\n",
    "    print(label, \"Completed\")\n",
    "\n"
   ]
  },
  {
   "cell_type": "markdown",
   "metadata": {},
   "source": [
    "# creating dataframe"
   ]
  },
  {
   "cell_type": "code",
   "execution_count": 6,
   "metadata": {},
   "outputs": [
    {
     "data": {
      "text/html": [
       "<div>\n",
       "<style scoped>\n",
       "    .dataframe tbody tr th:only-of-type {\n",
       "        vertical-align: middle;\n",
       "    }\n",
       "\n",
       "    .dataframe tbody tr th {\n",
       "        vertical-align: top;\n",
       "    }\n",
       "\n",
       "    .dataframe thead th {\n",
       "        text-align: right;\n",
       "    }\n",
       "</style>\n",
       "<table border=\"1\" class=\"dataframe\">\n",
       "  <thead>\n",
       "    <tr style=\"text-align: right;\">\n",
       "      <th></th>\n",
       "      <th>image</th>\n",
       "      <th>label</th>\n",
       "    </tr>\n",
       "  </thead>\n",
       "  <tbody>\n",
       "    <tr>\n",
       "      <th>0</th>\n",
       "      <td>datasetPictures/train/train\\fear\\Training_3087...</td>\n",
       "      <td>fear</td>\n",
       "    </tr>\n",
       "    <tr>\n",
       "      <th>1</th>\n",
       "      <td>datasetPictures/train/train\\angry\\Training_712...</td>\n",
       "      <td>angry</td>\n",
       "    </tr>\n",
       "    <tr>\n",
       "      <th>2</th>\n",
       "      <td>datasetPictures/train/train\\surprise\\Training_...</td>\n",
       "      <td>surprise</td>\n",
       "    </tr>\n",
       "    <tr>\n",
       "      <th>3</th>\n",
       "      <td>datasetPictures/train/train\\happy\\Training_135...</td>\n",
       "      <td>happy</td>\n",
       "    </tr>\n",
       "    <tr>\n",
       "      <th>4</th>\n",
       "      <td>datasetPictures/train/train\\fear\\Training_3482...</td>\n",
       "      <td>fear</td>\n",
       "    </tr>\n",
       "  </tbody>\n",
       "</table>\n",
       "</div>"
      ],
      "text/plain": [
       "                                               image     label\n",
       "0  datasetPictures/train/train\\fear\\Training_3087...      fear\n",
       "1  datasetPictures/train/train\\angry\\Training_712...     angry\n",
       "2  datasetPictures/train/train\\surprise\\Training_...  surprise\n",
       "3  datasetPictures/train/train\\happy\\Training_135...     happy\n",
       "4  datasetPictures/train/train\\fear\\Training_3482...      fear"
      ]
     },
     "execution_count": 6,
     "metadata": {},
     "output_type": "execute_result"
    }
   ],
   "source": [
    "# training\n",
    "train = pd.DataFrame()\n",
    "train ['image'] = imagesTrain\n",
    "train['label'] = labelsTrain\n",
    "# shuffle the dataset\n",
    "train = train.sample(frac = 1).reset_index(drop = True) \n",
    "train.head()"
   ]
  },
  {
   "cell_type": "code",
   "execution_count": 7,
   "metadata": {},
   "outputs": [
    {
     "data": {
      "text/html": [
       "<div>\n",
       "<style scoped>\n",
       "    .dataframe tbody tr th:only-of-type {\n",
       "        vertical-align: middle;\n",
       "    }\n",
       "\n",
       "    .dataframe tbody tr th {\n",
       "        vertical-align: top;\n",
       "    }\n",
       "\n",
       "    .dataframe thead th {\n",
       "        text-align: right;\n",
       "    }\n",
       "</style>\n",
       "<table border=\"1\" class=\"dataframe\">\n",
       "  <thead>\n",
       "    <tr style=\"text-align: right;\">\n",
       "      <th></th>\n",
       "      <th>image</th>\n",
       "      <th>label</th>\n",
       "    </tr>\n",
       "  </thead>\n",
       "  <tbody>\n",
       "    <tr>\n",
       "      <th>0</th>\n",
       "      <td>datasetPictures/test/test\\angry\\PrivateTest_10...</td>\n",
       "      <td>angry</td>\n",
       "    </tr>\n",
       "    <tr>\n",
       "      <th>1</th>\n",
       "      <td>datasetPictures/test/test\\angry\\PrivateTest_10...</td>\n",
       "      <td>angry</td>\n",
       "    </tr>\n",
       "    <tr>\n",
       "      <th>2</th>\n",
       "      <td>datasetPictures/test/test\\angry\\PrivateTest_10...</td>\n",
       "      <td>angry</td>\n",
       "    </tr>\n",
       "    <tr>\n",
       "      <th>3</th>\n",
       "      <td>datasetPictures/test/test\\angry\\PrivateTest_10...</td>\n",
       "      <td>angry</td>\n",
       "    </tr>\n",
       "    <tr>\n",
       "      <th>4</th>\n",
       "      <td>datasetPictures/test/test\\angry\\PrivateTest_11...</td>\n",
       "      <td>angry</td>\n",
       "    </tr>\n",
       "  </tbody>\n",
       "</table>\n",
       "</div>"
      ],
      "text/plain": [
       "                                               image  label\n",
       "0  datasetPictures/test/test\\angry\\PrivateTest_10...  angry\n",
       "1  datasetPictures/test/test\\angry\\PrivateTest_10...  angry\n",
       "2  datasetPictures/test/test\\angry\\PrivateTest_10...  angry\n",
       "3  datasetPictures/test/test\\angry\\PrivateTest_10...  angry\n",
       "4  datasetPictures/test/test\\angry\\PrivateTest_11...  angry"
      ]
     },
     "execution_count": 7,
     "metadata": {},
     "output_type": "execute_result"
    }
   ],
   "source": [
    "#testing\n",
    "test = pd.DataFrame()\n",
    "test ['image'] = imagesTest\n",
    "test['label'] = labelsTest\n",
    "test.head()"
   ]
  },
  {
   "cell_type": "markdown",
   "metadata": {},
   "source": [
    "# Extracting Features"
   ]
  },
  {
   "cell_type": "code",
   "execution_count": 14,
   "metadata": {},
   "outputs": [
    {
     "data": {
      "application/vnd.jupyter.widget-view+json": {
       "model_id": "845d0afd16ef4c7f8edeacff6f33a0c9",
       "version_major": 2,
       "version_minor": 0
      },
      "text/plain": [
       "  0%|          | 0/28709 [00:00<?, ?it/s]"
      ]
     },
     "metadata": {},
     "output_type": "display_data"
    }
   ],
   "source": [
    "def extractFeatures(images):\n",
    "    features = []\n",
    "    for image in tqdm(images):\n",
    "        img = load_img(image, grayscale=True)\n",
    "        img = np.array(img)\n",
    "        features.append(img)\n",
    "    features = np.array(features)\n",
    "    sampleSize = len(features)\n",
    "    width = 48\n",
    "    height = 48\n",
    "    dimension = 1\n",
    "    features = features.reshape(sampleSize, width, height, dimension)\n",
    "    return features\n",
    "\n",
    "trainFeatures = extractFeatures(train['image'])"
   ]
  },
  {
   "cell_type": "code",
   "execution_count": 15,
   "metadata": {},
   "outputs": [
    {
     "data": {
      "application/vnd.jupyter.widget-view+json": {
       "model_id": "dea9b1ed868947649994c2776af82cb2",
       "version_major": 2,
       "version_minor": 0
      },
      "text/plain": [
       "  0%|          | 0/7178 [00:00<?, ?it/s]"
      ]
     },
     "metadata": {},
     "output_type": "display_data"
    }
   ],
   "source": [
    "testFeatures = extractFeatures(test['image'])"
   ]
  },
  {
   "cell_type": "code",
   "execution_count": 16,
   "metadata": {},
   "outputs": [],
   "source": [
    "# normalize image so pixels can be in range of 0 and 1\n",
    "xTrain = trainFeatures/255.0\n",
    "xTest = testFeatures/255.0"
   ]
  }
 ],
 "metadata": {
  "kernelspec": {
   "display_name": "Python 3",
   "language": "python",
   "name": "python3"
  },
  "language_info": {
   "codemirror_mode": {
    "name": "ipython",
    "version": 3
   },
   "file_extension": ".py",
   "mimetype": "text/x-python",
   "name": "python",
   "nbconvert_exporter": "python",
   "pygments_lexer": "ipython3",
   "version": "3.8.8"
  }
 },
 "nbformat": 4,
 "nbformat_minor": 2
}
