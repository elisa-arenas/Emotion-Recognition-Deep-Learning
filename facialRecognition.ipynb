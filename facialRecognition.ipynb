{
 "cells": [
  {
   "cell_type": "code",
   "execution_count": 18,
   "metadata": {},
   "outputs": [],
   "source": [
    "import pandas as pd\n",
    "import numpy as np\n",
    "import os\n",
    "import matplotlib.pyplot as plt\n",
    "import seaborn as sns\n",
    "import warnings\n",
    "from tqdm.notebook import tqdm\n",
    "warnings.filterwarnings('ignore')\n",
    "%matplotlib inline\n",
    "import tensorflow as tf\n",
    "from keras.models import Sequential\n",
    "from keras.layers import Dense, Conv2D, Dropout, Flatten, MaxPooling2D\n",
    "from tensorflow.keras.utils import to_categorical\n",
    "from keras.preprocessing.image import load_img\n"
   ]
  },
  {
   "cell_type": "markdown",
   "metadata": {},
   "source": [
    "# loading facial expression dataset from Kaggle"
   ]
  },
  {
   "cell_type": "code",
   "execution_count": 19,
   "metadata": {},
   "outputs": [
    {
     "name": "stdout",
     "output_type": "stream",
     "text": [
      "Loading Train Dataset\n",
      "happy Completed\n",
      ".DS_Store Completed\n",
      "sad Completed\n",
      "fear Completed\n",
      "surprise Completed\n",
      "neutral Completed\n",
      "angry Completed\n",
      "disgust Completed\n",
      "Loading Test Dataset\n",
      "happy Completed\n",
      ".DS_Store Completed\n",
      "sad Completed\n",
      "fear Completed\n",
      "surprise Completed\n",
      "neutral Completed\n",
      "angry Completed\n",
      "disgust Completed\n"
     ]
    }
   ],
   "source": [
    "testData = 'datasetPictures/test/test'\n",
    "trainData = 'datasetPictures/train/train'\n",
    "# def loadDataset(directory): \n",
    "#     imagePaths = []\n",
    "#     labels = []\n",
    "\n",
    "#     for label in os.listdir(directory):\n",
    "#         for filename in os.listdir(directory+label): \n",
    "#             imagePath = os.path.join(directory, label, filename)\n",
    "#             imagePaths.append(imagePath) #input: image\n",
    "#             labels.append(label) #output: label\n",
    "\n",
    "#         print(label, \"Completed\")\n",
    "#     return imagePaths, labels\n",
    "\n",
    "imagesTrain = []\n",
    "labelsTrain = []\n",
    "print(\"Loading Train Dataset\")\n",
    "for label in os.listdir(trainData):\n",
    "    if not label.startswith('.DS'):\n",
    "        for picture in os.listdir(trainData+'/'+label):\n",
    "            picPath = os.path.join(trainData, label, picture)\n",
    "            imagesTrain.append(picPath) #input: image\n",
    "            labelsTrain.append(label) #output: label\n",
    "    print(label, \"Completed\")\n",
    "\n",
    "imagesTest = []\n",
    "labelsTest = []\n",
    "print(\"Loading Test Dataset\")\n",
    "\n",
    "for label in os.listdir(testData):\n",
    "    if not label.startswith('.DS'):\n",
    "        for picture in os.listdir(testData+'/'+label):\n",
    "            picPath = os.path.join(testData, label, picture)\n",
    "            imagesTest.append(picPath) #input: image\n",
    "            labelsTest.append(label) #output: label\n",
    "    print(label, \"Completed\")\n",
    "\n"
   ]
  },
  {
   "cell_type": "markdown",
   "metadata": {},
   "source": [
    "# creating dataframe"
   ]
  },
  {
   "cell_type": "code",
   "execution_count": 20,
   "metadata": {},
   "outputs": [
    {
     "data": {
      "text/html": [
       "<div>\n",
       "<style scoped>\n",
       "    .dataframe tbody tr th:only-of-type {\n",
       "        vertical-align: middle;\n",
       "    }\n",
       "\n",
       "    .dataframe tbody tr th {\n",
       "        vertical-align: top;\n",
       "    }\n",
       "\n",
       "    .dataframe thead th {\n",
       "        text-align: right;\n",
       "    }\n",
       "</style>\n",
       "<table border=\"1\" class=\"dataframe\">\n",
       "  <thead>\n",
       "    <tr style=\"text-align: right;\">\n",
       "      <th></th>\n",
       "      <th>image</th>\n",
       "      <th>label</th>\n",
       "    </tr>\n",
       "  </thead>\n",
       "  <tbody>\n",
       "    <tr>\n",
       "      <th>0</th>\n",
       "      <td>datasetPictures/train/train/surprise/Training_...</td>\n",
       "      <td>surprise</td>\n",
       "    </tr>\n",
       "    <tr>\n",
       "      <th>1</th>\n",
       "      <td>datasetPictures/train/train/happy/Training_170...</td>\n",
       "      <td>happy</td>\n",
       "    </tr>\n",
       "    <tr>\n",
       "      <th>2</th>\n",
       "      <td>datasetPictures/train/train/happy/Training_632...</td>\n",
       "      <td>happy</td>\n",
       "    </tr>\n",
       "    <tr>\n",
       "      <th>3</th>\n",
       "      <td>datasetPictures/train/train/sad/Training_76072...</td>\n",
       "      <td>sad</td>\n",
       "    </tr>\n",
       "    <tr>\n",
       "      <th>4</th>\n",
       "      <td>datasetPictures/train/train/neutral/Training_4...</td>\n",
       "      <td>neutral</td>\n",
       "    </tr>\n",
       "  </tbody>\n",
       "</table>\n",
       "</div>"
      ],
      "text/plain": [
       "                                               image     label\n",
       "0  datasetPictures/train/train/surprise/Training_...  surprise\n",
       "1  datasetPictures/train/train/happy/Training_170...     happy\n",
       "2  datasetPictures/train/train/happy/Training_632...     happy\n",
       "3  datasetPictures/train/train/sad/Training_76072...       sad\n",
       "4  datasetPictures/train/train/neutral/Training_4...   neutral"
      ]
     },
     "execution_count": 20,
     "metadata": {},
     "output_type": "execute_result"
    }
   ],
   "source": [
    "# training\n",
    "train = pd.DataFrame()\n",
    "train ['image'] = imagesTrain\n",
    "train['label'] = labelsTrain\n",
    "# shuffle the dataset\n",
    "train = train.sample(frac = 1).reset_index(drop = True) \n",
    "train.head()"
   ]
  },
  {
   "cell_type": "code",
   "execution_count": 21,
   "metadata": {},
   "outputs": [
    {
     "data": {
      "text/html": [
       "<div>\n",
       "<style scoped>\n",
       "    .dataframe tbody tr th:only-of-type {\n",
       "        vertical-align: middle;\n",
       "    }\n",
       "\n",
       "    .dataframe tbody tr th {\n",
       "        vertical-align: top;\n",
       "    }\n",
       "\n",
       "    .dataframe thead th {\n",
       "        text-align: right;\n",
       "    }\n",
       "</style>\n",
       "<table border=\"1\" class=\"dataframe\">\n",
       "  <thead>\n",
       "    <tr style=\"text-align: right;\">\n",
       "      <th></th>\n",
       "      <th>image</th>\n",
       "      <th>label</th>\n",
       "    </tr>\n",
       "  </thead>\n",
       "  <tbody>\n",
       "    <tr>\n",
       "      <th>0</th>\n",
       "      <td>datasetPictures/test/test/happy/PrivateTest_45...</td>\n",
       "      <td>happy</td>\n",
       "    </tr>\n",
       "    <tr>\n",
       "      <th>1</th>\n",
       "      <td>datasetPictures/test/test/happy/PrivateTest_61...</td>\n",
       "      <td>happy</td>\n",
       "    </tr>\n",
       "    <tr>\n",
       "      <th>2</th>\n",
       "      <td>datasetPictures/test/test/happy/PublicTest_536...</td>\n",
       "      <td>happy</td>\n",
       "    </tr>\n",
       "    <tr>\n",
       "      <th>3</th>\n",
       "      <td>datasetPictures/test/test/happy/PrivateTest_52...</td>\n",
       "      <td>happy</td>\n",
       "    </tr>\n",
       "    <tr>\n",
       "      <th>4</th>\n",
       "      <td>datasetPictures/test/test/happy/PublicTest_411...</td>\n",
       "      <td>happy</td>\n",
       "    </tr>\n",
       "  </tbody>\n",
       "</table>\n",
       "</div>"
      ],
      "text/plain": [
       "                                               image  label\n",
       "0  datasetPictures/test/test/happy/PrivateTest_45...  happy\n",
       "1  datasetPictures/test/test/happy/PrivateTest_61...  happy\n",
       "2  datasetPictures/test/test/happy/PublicTest_536...  happy\n",
       "3  datasetPictures/test/test/happy/PrivateTest_52...  happy\n",
       "4  datasetPictures/test/test/happy/PublicTest_411...  happy"
      ]
     },
     "execution_count": 21,
     "metadata": {},
     "output_type": "execute_result"
    }
   ],
   "source": [
    "#testing\n",
    "test = pd.DataFrame()\n",
    "test ['image'] = imagesTest\n",
    "test['label'] = labelsTest\n",
    "test.head()"
   ]
  },
  {
   "cell_type": "markdown",
   "metadata": {},
   "source": [
    "# Extracting Features"
   ]
  },
  {
   "cell_type": "code",
   "execution_count": 22,
   "metadata": {},
   "outputs": [
    {
     "data": {
      "application/vnd.jupyter.widget-view+json": {
       "model_id": "08ece2718594416c804f46b3eca56d6b",
       "version_major": 2,
       "version_minor": 0
      },
      "text/plain": [
       "  0%|          | 0/28709 [00:00<?, ?it/s]"
      ]
     },
     "metadata": {},
     "output_type": "display_data"
    }
   ],
   "source": [
    "def extractFeatures(images):\n",
    "    features = []\n",
    "    for image in tqdm(images):\n",
    "        img = load_img(image, grayscale=True)\n",
    "        img = np.array(img)\n",
    "        features.append(img)\n",
    "    features = np.array(features)\n",
    "    sampleSize = len(features)\n",
    "    width = 48\n",
    "    height = 48\n",
    "    dimension = 1\n",
    "    features = features.reshape(sampleSize, width, height, dimension)\n",
    "    return features\n",
    "\n",
    "trainFeatures = extractFeatures(train['image'])"
   ]
  },
  {
   "cell_type": "code",
   "execution_count": 23,
   "metadata": {},
   "outputs": [
    {
     "data": {
      "application/vnd.jupyter.widget-view+json": {
       "model_id": "d41f7ba075674ea691f8082e8968ad9d",
       "version_major": 2,
       "version_minor": 0
      },
      "text/plain": [
       "  0%|          | 0/7178 [00:00<?, ?it/s]"
      ]
     },
     "metadata": {},
     "output_type": "display_data"
    }
   ],
   "source": [
    "testFeatures = extractFeatures(test['image'])"
   ]
  },
  {
   "cell_type": "markdown",
   "metadata": {},
   "source": [
    "# Preprocessing data to convert labels (string) to integer values for CNN model"
   ]
  },
  {
   "cell_type": "code",
   "execution_count": 29,
   "metadata": {},
   "outputs": [],
   "source": [
    "# normalize image so pixels can be in range of 0 and 1\n",
    "xTrain = trainFeatures/255.0\n",
    "xTest = testFeatures/255.0\n",
    "\n",
    "# convert label to integer \n",
    "from  sklearn.preprocessing import LabelEncoder \n",
    "enc = LabelEncoder()\n",
    "# stores corresponding mapping of label to an integer\n",
    "enc.fit(train['label'])\n",
    "# converts label (string) into an integer \n",
    "yTrain = enc.transform(train['label'])\n",
    "yTest = enc.transform(test['label'])\n",
    "\n",
    "yTrain = to_categorical(yTrain, num_classes = 7)\n",
    "yTest = to_categorical(yTest, num_classes = 7)\n",
    "\n",
    "# configuration \n",
    "width = 48\n",
    "height = 48\n",
    "dimension = 1\n",
    "inputShape = (width, height, dimension)\n",
    "outputClass = 7\n",
    "\n"
   ]
  },
  {
   "cell_type": "code",
   "execution_count": 30,
   "metadata": {},
   "outputs": [
    {
     "data": {
      "text/plain": [
       "array([0., 0., 0., 0., 0., 0., 1.], dtype=float32)"
      ]
     },
     "execution_count": 30,
     "metadata": {},
     "output_type": "execute_result"
    }
   ],
   "source": [
    "yTrain[0]"
   ]
  }
 ],
 "metadata": {
  "kernelspec": {
   "display_name": "Python 3",
   "language": "python",
   "name": "python3"
  },
  "language_info": {
   "codemirror_mode": {
    "name": "ipython",
    "version": 3
   },
   "file_extension": ".py",
   "mimetype": "text/x-python",
   "name": "python",
   "nbconvert_exporter": "python",
   "pygments_lexer": "ipython3",
   "version": "3.8.8"
  }
 },
 "nbformat": 4,
 "nbformat_minor": 2
}
