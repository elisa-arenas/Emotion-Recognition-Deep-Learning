{
 "cells": [
  {
   "cell_type": "code",
   "execution_count": 84,
   "metadata": {},
   "outputs": [],
   "source": [
    "import pandas as pd\n",
    "import numpy as np\n",
    "import os\n",
    "import matplotlib.pyplot as plt\n",
    "import seaborn as sns\n",
    "import warnings\n",
    "from tqdm.notebook import tqdm\n",
    "# warnings.filterwarnings('ignore')\n",
    "%matplotlib inline\n",
    "import tensorflow as tf\n",
    "from keras.models import Sequential\n",
    "from keras.layers import Dense, Conv2D, Dropout, Flatten, MaxPooling2D\n",
    "from tensorflow.keras.utils import to_categorical\n",
    "from keras.preprocessing.image import load_img\n",
    "import random\n"
   ]
  },
  {
   "cell_type": "markdown",
   "metadata": {},
   "source": [
    "# loading facial expression dataset from Kaggle"
   ]
  },
  {
   "cell_type": "code",
   "execution_count": 98,
   "metadata": {},
   "outputs": [
    {
     "name": "stdout",
     "output_type": "stream",
     "text": [
      "Loading Train Dataset\n",
      "happy Completed\n",
      "sad Completed\n",
      "fear Completed\n",
      "surprise Completed\n",
      "neutral Completed\n",
      "angry Completed\n",
      "disgust Completed\n",
      "Loading Test Dataset\n",
      "happy Completed\n",
      "sad Completed\n",
      "fear Completed\n",
      "surprise Completed\n",
      "neutral Completed\n",
      "angry Completed\n",
      "disgust Completed\n"
     ]
    }
   ],
   "source": [
    "testData = 'datasetPictures/test/test'\n",
    "trainData = 'datasetPictures/train/train'\n",
    "\n",
    "# training list \n",
    "imagesTrain = []\n",
    "labelsTrain = []\n",
    "print(\"Loading Train Dataset\")\n",
    "for label in os.listdir(trainData):\n",
    "    if not label.startswith('.DS'):\n",
    "        for picture in os.listdir(trainData+'/'+label): # parsing data\n",
    "            picPath = os.path.join(trainData, label, picture)\n",
    "            imagesTrain.append(picPath) #input: image\n",
    "            labelsTrain.append(label) #output: label\n",
    "        print(label, \"Completed\")\n",
    "\n",
    "# testing list\n",
    "imagesTest = []\n",
    "labelsTest = []\n",
    "print(\"Loading Test Dataset\")\n",
    "\n",
    "for label in os.listdir(testData):\n",
    "    if not label.startswith('.DS'):\n",
    "        for picture in os.listdir(testData+'/'+label): # parsing data\n",
    "            picPath = os.path.join(testData, label, picture)\n",
    "            imagesTest.append(picPath) #input: image\n",
    "            labelsTest.append(label) #output: label\n",
    "        print(label, \"Completed\")\n",
    "\n"
   ]
  },
  {
   "cell_type": "markdown",
   "metadata": {},
   "source": [
    "# creating dataframe"
   ]
  },
  {
   "cell_type": "code",
   "execution_count": 99,
   "metadata": {},
   "outputs": [
    {
     "data": {
      "text/html": [
       "<div>\n",
       "<style scoped>\n",
       "    .dataframe tbody tr th:only-of-type {\n",
       "        vertical-align: middle;\n",
       "    }\n",
       "\n",
       "    .dataframe tbody tr th {\n",
       "        vertical-align: top;\n",
       "    }\n",
       "\n",
       "    .dataframe thead th {\n",
       "        text-align: right;\n",
       "    }\n",
       "</style>\n",
       "<table border=\"1\" class=\"dataframe\">\n",
       "  <thead>\n",
       "    <tr style=\"text-align: right;\">\n",
       "      <th></th>\n",
       "      <th>image</th>\n",
       "      <th>label</th>\n",
       "    </tr>\n",
       "  </thead>\n",
       "  <tbody>\n",
       "    <tr>\n",
       "      <th>0</th>\n",
       "      <td>datasetPictures/train/train/happy/Training_230...</td>\n",
       "      <td>happy</td>\n",
       "    </tr>\n",
       "    <tr>\n",
       "      <th>1</th>\n",
       "      <td>datasetPictures/train/train/angry/Training_328...</td>\n",
       "      <td>angry</td>\n",
       "    </tr>\n",
       "    <tr>\n",
       "      <th>2</th>\n",
       "      <td>datasetPictures/train/train/happy/Training_607...</td>\n",
       "      <td>happy</td>\n",
       "    </tr>\n",
       "    <tr>\n",
       "      <th>3</th>\n",
       "      <td>datasetPictures/train/train/neutral/Training_4...</td>\n",
       "      <td>neutral</td>\n",
       "    </tr>\n",
       "    <tr>\n",
       "      <th>4</th>\n",
       "      <td>datasetPictures/train/train/neutral/Training_2...</td>\n",
       "      <td>neutral</td>\n",
       "    </tr>\n",
       "  </tbody>\n",
       "</table>\n",
       "</div>"
      ],
      "text/plain": [
       "                                               image    label\n",
       "0  datasetPictures/train/train/happy/Training_230...    happy\n",
       "1  datasetPictures/train/train/angry/Training_328...    angry\n",
       "2  datasetPictures/train/train/happy/Training_607...    happy\n",
       "3  datasetPictures/train/train/neutral/Training_4...  neutral\n",
       "4  datasetPictures/train/train/neutral/Training_2...  neutral"
      ]
     },
     "execution_count": 99,
     "metadata": {},
     "output_type": "execute_result"
    }
   ],
   "source": [
    "# training\n",
    "train = pd.DataFrame()\n",
    "train ['image'] = imagesTrain\n",
    "train['label'] = labelsTrain\n",
    "# shuffle the dataset\n",
    "train = train.sample(frac = 1).reset_index(drop = True) \n",
    "train.head()"
   ]
  },
  {
   "cell_type": "code",
   "execution_count": 87,
   "metadata": {},
   "outputs": [
    {
     "data": {
      "text/html": [
       "<div>\n",
       "<style scoped>\n",
       "    .dataframe tbody tr th:only-of-type {\n",
       "        vertical-align: middle;\n",
       "    }\n",
       "\n",
       "    .dataframe tbody tr th {\n",
       "        vertical-align: top;\n",
       "    }\n",
       "\n",
       "    .dataframe thead th {\n",
       "        text-align: right;\n",
       "    }\n",
       "</style>\n",
       "<table border=\"1\" class=\"dataframe\">\n",
       "  <thead>\n",
       "    <tr style=\"text-align: right;\">\n",
       "      <th></th>\n",
       "      <th>image</th>\n",
       "      <th>label</th>\n",
       "    </tr>\n",
       "  </thead>\n",
       "  <tbody>\n",
       "    <tr>\n",
       "      <th>0</th>\n",
       "      <td>datasetPictures/test/test/happy/PrivateTest_45...</td>\n",
       "      <td>happy</td>\n",
       "    </tr>\n",
       "    <tr>\n",
       "      <th>1</th>\n",
       "      <td>datasetPictures/test/test/happy/PrivateTest_61...</td>\n",
       "      <td>happy</td>\n",
       "    </tr>\n",
       "    <tr>\n",
       "      <th>2</th>\n",
       "      <td>datasetPictures/test/test/happy/PublicTest_536...</td>\n",
       "      <td>happy</td>\n",
       "    </tr>\n",
       "    <tr>\n",
       "      <th>3</th>\n",
       "      <td>datasetPictures/test/test/happy/PrivateTest_52...</td>\n",
       "      <td>happy</td>\n",
       "    </tr>\n",
       "    <tr>\n",
       "      <th>4</th>\n",
       "      <td>datasetPictures/test/test/happy/PublicTest_411...</td>\n",
       "      <td>happy</td>\n",
       "    </tr>\n",
       "  </tbody>\n",
       "</table>\n",
       "</div>"
      ],
      "text/plain": [
       "                                               image  label\n",
       "0  datasetPictures/test/test/happy/PrivateTest_45...  happy\n",
       "1  datasetPictures/test/test/happy/PrivateTest_61...  happy\n",
       "2  datasetPictures/test/test/happy/PublicTest_536...  happy\n",
       "3  datasetPictures/test/test/happy/PrivateTest_52...  happy\n",
       "4  datasetPictures/test/test/happy/PublicTest_411...  happy"
      ]
     },
     "execution_count": 87,
     "metadata": {},
     "output_type": "execute_result"
    }
   ],
   "source": [
    "#testing\n",
    "test = pd.DataFrame()\n",
    "test ['image'] = imagesTest\n",
    "test['label'] = labelsTest\n",
    "test.head()"
   ]
  },
  {
   "cell_type": "markdown",
   "metadata": {},
   "source": [
    "# Extracting Features"
   ]
  },
  {
   "cell_type": "code",
   "execution_count": 102,
   "metadata": {},
   "outputs": [],
   "source": [
    "# function call to extract features from train and test dataframes\n",
    "def extractFeatures(images):\n",
    "    features = []\n",
    "    for image in tqdm(images):\n",
    "        img = load_img(image, grayscale=True)\n",
    "        img = np.array(img)\n",
    "        features.append(img)\n",
    "    features = np.array(features)\n",
    "    # image size 48x48 pixels; 1 dimension represents grayscale\n",
    "    width = 48\n",
    "    height = 48\n",
    "    dimension = 1\n",
    "    features = features.reshape(len(features), width, height, dimension)\n",
    "    return features\n"
   ]
  },
  {
   "cell_type": "code",
   "execution_count": 103,
   "metadata": {},
   "outputs": [
    {
     "data": {
      "application/vnd.jupyter.widget-view+json": {
       "model_id": "7c5b3457b9be4b0a89fadc4175f744cd",
       "version_major": 2,
       "version_minor": 0
      },
      "text/plain": [
       "  0%|          | 0/28709 [00:00<?, ?it/s]"
      ]
     },
     "metadata": {},
     "output_type": "display_data"
    }
   ],
   "source": [
    "trainFeatures = extractFeatures(train['image'])"
   ]
  },
  {
   "cell_type": "code",
   "execution_count": 104,
   "metadata": {},
   "outputs": [
    {
     "data": {
      "application/vnd.jupyter.widget-view+json": {
       "model_id": "6818fcecdc8c498aaeb8ab66488cba08",
       "version_major": 2,
       "version_minor": 0
      },
      "text/plain": [
       "  0%|          | 0/7178 [00:00<?, ?it/s]"
      ]
     },
     "metadata": {},
     "output_type": "display_data"
    }
   ],
   "source": [
    "testFeatures = extractFeatures(test['image'])"
   ]
  },
  {
   "cell_type": "markdown",
   "metadata": {},
   "source": [
    "# Preprocessing data to convert labels (string) to integer values for CNN model"
   ]
  },
  {
   "cell_type": "code",
   "execution_count": 90,
   "metadata": {},
   "outputs": [],
   "source": [
    "# normalize image so pixels can be in range of 0 and 1\n",
    "xTrain = trainFeatures/255.0\n",
    "xTest = testFeatures/255.0\n",
    "\n",
    "# convert label to integer \n",
    "from  sklearn.preprocessing import LabelEncoder \n",
    "enc = LabelEncoder()\n",
    "\n",
    "# stores corresponding mapping of label to an integer\n",
    "enc.fit(train['label'])\n",
    "\n",
    "# converts label (string) into an integer \n",
    "yTrain = enc.transform(train['label'])\n",
    "yTest = enc.transform(test['label'])\n",
    "\n",
    "# classes represents emotion classes\n",
    "yTrain = to_categorical(yTrain, num_classes = 7)\n",
    "yTest = to_categorical(yTest, num_classes = 7)\n",
    "\n"
   ]
  },
  {
   "cell_type": "markdown",
   "metadata": {},
   "source": [
    "#  Building the Model"
   ]
  },
  {
   "cell_type": "code",
   "execution_count": 105,
   "metadata": {},
   "outputs": [],
   "source": [
    "# configuration \n",
    "width = 48\n",
    "height = 48\n",
    "dimension = 1\n",
    "inputShape = (width, height, dimension)\n",
    "outputClass = 7\n",
    "\n",
    "modelCNN = Sequential()\n",
    "\n",
    "# Creating the convolutional layers\n",
    "modelCNN.add(Conv2D(128, kernel_size=(3,3), activation=\"relu\", input_shape=inputShape))\n",
    "modelCNN.add(MaxPooling2D(pool_size=(2,2)))\n",
    "modelCNN.add(Dropout(0.4))\n",
    "\n",
    "modelCNN.add(Conv2D(256, kernel_size=(3,3), activation=\"relu\"))\n",
    "modelCNN.add(MaxPooling2D(pool_size=(2,2)))\n",
    "modelCNN.add(Dropout(0.4))\n",
    "\n",
    "modelCNN.add(Conv2D(512, kernel_size=(3,3), activation=\"relu\"))\n",
    "modelCNN.add(MaxPooling2D(pool_size=(2,2)))\n",
    "modelCNN.add(Dropout(0.4))\n",
    "\n",
    "modelCNN.add(Conv2D(512, kernel_size=(3,3), activation=\"relu\"))\n",
    "modelCNN.add(MaxPooling2D(pool_size=(2,2)))\n",
    "modelCNN.add(Dropout(0.4))\n",
    "\n",
    "modelCNN.add(Flatten())\n",
    "\n",
    "# Connected Layers\n",
    "modelCNN.add(Dense(512, activation='relu'))\n",
    "modelCNN.add(Dropout(0.4))\n",
    "modelCNN.add(Dense(256, activation='relu'))\n",
    "modelCNN.add(Dropout(0.3))\n",
    "\n",
    "# Output layer\n",
    "modelCNN.add(Dense(outputClass, activation='softmax'))\n",
    "\n",
    "modelCNN.compile(optimizer='adam', loss='categorical_crossentropy', metrics='accuracy')\n"
   ]
  },
  {
   "cell_type": "markdown",
   "metadata": {},
   "source": [
    "# Training the Model"
   ]
  },
  {
   "cell_type": "code",
   "execution_count": 106,
   "metadata": {},
   "outputs": [
    {
     "name": "stdout",
     "output_type": "stream",
     "text": [
      "225/225 [==============================] - 368s 2s/step - loss: 1.8226 - accuracy: 0.2476 - val_loss: 1.8170 - val_accuracy: 0.2471\n"
     ]
    }
   ],
   "source": [
    "trained = modelCNN.fit(x=xTrain, y=yTrain, batch_size=128, epochs=100, validation_data=(xTest, yTest))\n"
   ]
  },
  {
   "cell_type": "markdown",
   "metadata": {},
   "source": [
    "# Plotting Results"
   ]
  },
  {
   "cell_type": "code",
   "execution_count": 156,
   "metadata": {},
   "outputs": [
    {
     "data": {
      "image/png": "[encoded data removed]",
      "text/plain": [
       "<Figure size 432x288 with 1 Axes>"
      ]
     },
     "metadata": {
      "needs_background": "light"
     },
     "output_type": "display_data"
    }
   ],
   "source": [
    "# plotting (x, y, color, label)\n",
    "\n",
    "plt.plot(range(len(acc)), trained.history['accuracy'], 'b', label='Training Accuracy')\n",
    "plt.plot(range(len(acc)), trained.history['val_accuracy'], 'r', label='Validation Accuracy')\n",
    "plt.title(\"Accuracy Graph\")\n",
    "plt.xlabel('Epoch Iteration')\n",
    "plt.ylabel('Accuracy Score')\n",
    "plt.legend() # displays label\n",
    "\n",
    "plt.show()\n"
   ]
  },
  {
   "cell_type": "markdown",
   "metadata": {},
   "source": [
    "# Testing the Model"
   ]
  },
  {
   "cell_type": "code",
   "execution_count": 155,
   "metadata": {},
   "outputs": [
    {
     "name": "stdout",
     "output_type": "stream",
     "text": [
      "Original Output: happy\n",
      "1/1 [==============================] - 0s 27ms/step\n",
      "Predicted Output: happy\n",
      "this works\n"
     ]
    },
    {
     "data": {
      "image/png": "[encoded data removed]",
      "text/plain": [
       "<Figure size 432x288 with 1 Axes>"
      ]
     },
     "metadata": {
      "needs_background": "light"
     },
     "output_type": "display_data"
    },
    {
     "name": "stdout",
     "output_type": "stream",
     "text": [
      "done\n",
      "Original Output: fear\n",
      "1/1 [==============================] - 0s 28ms/step\n",
      "Predicted Output: happy\n",
      "this works\n"
     ]
    },
    {
     "data": {
      "image/png": "[encoded data removed]",
      "text/plain": [
       "<Figure size 432x288 with 1 Axes>"
      ]
     },
     "metadata": {
      "needs_background": "light"
     },
     "output_type": "display_data"
    },
    {
     "name": "stdout",
     "output_type": "stream",
     "text": [
      "done\n",
      "Original Output: neutral\n",
      "1/1 [==============================] - 0s 30ms/step\n",
      "Predicted Output: happy\n",
      "this works\n"
     ]
    },
    {
     "data": {
      "image/png": "[encoded data removed]",
      "text/plain": [
       "<Figure size 432x288 with 1 Axes>"
      ]
     },
     "metadata": {
      "needs_background": "light"
     },
     "output_type": "display_data"
    },
    {
     "name": "stdout",
     "output_type": "stream",
     "text": [
      "done\n",
      "Original Output: surprise\n",
      "1/1 [==============================] - 0s 28ms/step\n",
      "Predicted Output: happy\n",
      "this works\n"
     ]
    },
    {
     "data": {
      "image/png": "[encoded data removed]",
      "text/plain": [
       "<Figure size 432x288 with 1 Axes>"
      ]
     },
     "metadata": {
      "needs_background": "light"
     },
     "output_type": "display_data"
    },
    {
     "name": "stdout",
     "output_type": "stream",
     "text": [
      "done\n",
      "Original Output: neutral\n",
      "1/1 [==============================] - 0s 30ms/step\n",
      "Predicted Output: happy\n",
      "this works\n"
     ]
    },
    {
     "data": {
      "image/png": "[encoded data removed]",
      "text/plain": [
       "<Figure size 432x288 with 1 Axes>"
      ]
     },
     "metadata": {
      "needs_background": "light"
     },
     "output_type": "display_data"
    },
    {
     "name": "stdout",
     "output_type": "stream",
     "text": [
      "done\n"
     ]
    }
   ],
   "source": [
    "# function call to test the model \n",
    "def testModel():\n",
    "    # tests model using a random image \n",
    "    imageIndex = random.randint(0, len(test))\n",
    "    print(\"Original Output:\", test['label'][imageIndex])\n",
    "\n",
    "    pred = modelCNN.predict(xTest[imageIndex].reshape(1, 48, 48, 1))\n",
    "    # converts to human readable label\n",
    "    predictionLabel = enc.inverse_transform([pred.argmax()])[0]\n",
    "\n",
    "    print(\"Predicted Output:\", predictionLabel)\n",
    "    # displays image \n",
    "    plt.imshow(xTest[imageIndex].reshape(48, 48), cmap='gray')\n",
    "    plt.show()\n",
    "\n",
    "for x in range(0, 5): \n",
    "    testModel()\n",
    "\n"
   ]
  }
 ],
 "metadata": {
  "kernelspec": {
   "display_name": "Python 3 (ipykernel)",
   "language": "python",
   "name": "python3"
  },
  "language_info": {
   "codemirror_mode": {
    "name": "ipython",
    "version": 3
   },
   "file_extension": ".py",
   "mimetype": "text/x-python",
   "name": "python",
   "nbconvert_exporter": "python",
   "pygments_lexer": "ipython3",
   "version": "3.11.4"
  }
 },
 "nbformat": 4,
 "nbformat_minor": 2
}
