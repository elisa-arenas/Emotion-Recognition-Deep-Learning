{
 "cells": [
  {
   "cell_type": "code",
   "execution_count": 4,
   "metadata": {},
   "outputs": [],
   "source": [
    "import pandas as pd\n",
    "import numpy as np\n",
    "import os\n",
    "import matplotlib.pyplot as plt\n",
    "import seaborn as sns\n",
    "import warnings\n",
    "from tqdm.notebook import tqdm\n",
    "warnings.filterwarnings('ignore')\n",
    "%matplotlib inline\n",
    "import tensorflow as tf\n",
    "from keras.models import Sequential\n",
    "from keras.layers import Dense, Conv2D, Dropout, Flatten, MaxPooling2D\n"
   ]
  },
  {
   "cell_type": "markdown",
   "metadata": {},
   "source": [
    "# loading facial expression dataset from Kaggle"
   ]
  },
  {
   "cell_type": "code",
   "execution_count": 10,
   "metadata": {},
   "outputs": [
    {
     "name": "stdout",
     "output_type": "stream",
     "text": [
      ".DS_Store Completed\n",
      "angry Completed\n",
      "disgust Completed\n",
      "fear Completed\n",
      "happy Completed\n",
      "neutral Completed\n",
      "sad Completed\n",
      "surprise Completed\n",
      ".DS_Store Completed\n",
      "angry Completed\n",
      "disgust Completed\n",
      "fear Completed\n",
      "happy Completed\n",
      "neutral Completed\n",
      "sad Completed\n",
      "surprise Completed\n"
     ]
    }
   ],
   "source": [
    "testData = 'datasetPictures/test/test'\n",
    "trainData = 'datasetPictures/train/train'\n",
    "# def loadDataset(directory): \n",
    "#     imagePaths = []\n",
    "#     labels = []\n",
    "\n",
    "#     for label in os.listdir(directory):\n",
    "#         for filename in os.listdir(directory+label): \n",
    "#             imagePath = os.path.join(directory, label, filename)\n",
    "#             imagePaths.append(imagePath) #input: image\n",
    "#             labels.append(label) #output: label\n",
    "\n",
    "#         print(label, \"Completed\")\n",
    "#     return imagePaths, labels\n",
    "\n",
    "imagesTrain = []\n",
    "labelsTrain = []\n",
    "print(\"Loading Train Dataset\")\n",
    "for label in os.listdir(trainData):\n",
    "    if not label.startswith('.DS'):\n",
    "        for picture in os.listdir(trainData+'/'+label):\n",
    "            picPath = os.path.join(trainData, label, picture)\n",
    "            imagesTrain.append(picPath) #input: image\n",
    "            labelsTrain.append(label) #output: label\n",
    "    print(label, \"Completed\")\n",
    "\n",
    "images = []\n",
    "labels = []\n",
    "print(\"Loading Test Dataset\")\n",
    "\n",
    "for label in os.listdir(testData):\n",
    "    if not label.startswith('.DS'):\n",
    "        for picture in os.listdir(testData+'/'+label):\n",
    "            picPath = os.path.join(testData, label, picture)\n",
    "            images.append(picPath) #input: image\n",
    "            labels.append(label) #output: label\n",
    "    print(label, \"Completed\")\n",
    "\n"
   ]
  }
 ],
 "metadata": {
  "kernelspec": {
   "display_name": "Python 3 (ipykernel)",
   "language": "python",
   "name": "python3"
  },
  "language_info": {
   "codemirror_mode": {
    "name": "ipython",
    "version": 3
   },
   "file_extension": ".py",
   "mimetype": "text/x-python",
   "name": "python",
   "nbconvert_exporter": "python",
   "pygments_lexer": "ipython3",
   "version": "3.11.4"
  }
 },
 "nbformat": 4,
 "nbformat_minor": 2
}
